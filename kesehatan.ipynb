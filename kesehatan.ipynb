{
  "nbformat": 4,
  "nbformat_minor": 0,
  "metadata": {
    "colab": {
      "provenance": []
    },
    "kernelspec": {
      "name": "python3",
      "display_name": "Python 3"
    },
    "language_info": {
      "name": "python"
    }
  },
  "cells": [
    {
      "cell_type": "code",
      "execution_count": 13,
      "metadata": {
        "colab": {
          "base_uri": "https://localhost:8080/"
        },
        "id": "9KPAvnh8kM4d",
        "outputId": "6aa82071-0293-4cd5-b33f-eaa1bbe89d34"
      },
      "outputs": [
        {
          "output_type": "stream",
          "name": "stdout",
          "text": [
            "Drive already mounted at /content/drive; to attempt to forcibly remount, call drive.mount(\"/content/drive\", force_remount=True).\n"
          ]
        }
      ],
      "source": [
        "from google.colab import drive\n",
        "drive.mount('/content/drive')"
      ]
    },
    {
      "cell_type": "code",
      "source": [
        "import pandas as pd\n",
        "path = '/content/drive/MyDrive/CSV/covid - data-pencapaian-peserta-keluarga-berencana-aktif-di-kota-administrasi-jakarta-utara-tahun-2020 (1).csv'\n",
        "df = pd.read_csv(path)\n",
        "df.describe()"
      ],
      "metadata": {
        "colab": {
          "base_uri": "https://localhost:8080/",
          "height": 300
        },
        "id": "TspEzu8sq3S-",
        "outputId": "f845a5b4-2f56-4141-dcc3-434ffb28fda8"
      },
      "execution_count": 14,
      "outputs": [
        {
          "output_type": "execute_result",
          "data": {
            "text/plain": [
              "          DIRAWAT  TERKONFIRMASI      SEMBUH\n",
              "count   34.000000      34.000000   34.000000\n",
              "mean   172.588235      84.227059   81.197029\n",
              "std    198.518012     109.248627  104.067452\n",
              "min      0.000000       1.000000    0.000000\n",
              "25%     35.000000      26.622250   25.998750\n",
              "50%    120.500000      55.763500   54.131500\n",
              "75%    240.000000      92.924000   90.914000\n",
              "max    914.000000     604.991000  572.269000"
            ],
            "text/html": [
              "\n",
              "  <div id=\"df-881c56e3-ecbf-453e-a2f0-0f7bd316f66a\">\n",
              "    <div class=\"colab-df-container\">\n",
              "      <div>\n",
              "<style scoped>\n",
              "    .dataframe tbody tr th:only-of-type {\n",
              "        vertical-align: middle;\n",
              "    }\n",
              "\n",
              "    .dataframe tbody tr th {\n",
              "        vertical-align: top;\n",
              "    }\n",
              "\n",
              "    .dataframe thead th {\n",
              "        text-align: right;\n",
              "    }\n",
              "</style>\n",
              "<table border=\"1\" class=\"dataframe\">\n",
              "  <thead>\n",
              "    <tr style=\"text-align: right;\">\n",
              "      <th></th>\n",
              "      <th>DIRAWAT</th>\n",
              "      <th>TERKONFIRMASI</th>\n",
              "      <th>SEMBUH</th>\n",
              "    </tr>\n",
              "  </thead>\n",
              "  <tbody>\n",
              "    <tr>\n",
              "      <th>count</th>\n",
              "      <td>34.000000</td>\n",
              "      <td>34.000000</td>\n",
              "      <td>34.000000</td>\n",
              "    </tr>\n",
              "    <tr>\n",
              "      <th>mean</th>\n",
              "      <td>172.588235</td>\n",
              "      <td>84.227059</td>\n",
              "      <td>81.197029</td>\n",
              "    </tr>\n",
              "    <tr>\n",
              "      <th>std</th>\n",
              "      <td>198.518012</td>\n",
              "      <td>109.248627</td>\n",
              "      <td>104.067452</td>\n",
              "    </tr>\n",
              "    <tr>\n",
              "      <th>min</th>\n",
              "      <td>0.000000</td>\n",
              "      <td>1.000000</td>\n",
              "      <td>0.000000</td>\n",
              "    </tr>\n",
              "    <tr>\n",
              "      <th>25%</th>\n",
              "      <td>35.000000</td>\n",
              "      <td>26.622250</td>\n",
              "      <td>25.998750</td>\n",
              "    </tr>\n",
              "    <tr>\n",
              "      <th>50%</th>\n",
              "      <td>120.500000</td>\n",
              "      <td>55.763500</td>\n",
              "      <td>54.131500</td>\n",
              "    </tr>\n",
              "    <tr>\n",
              "      <th>75%</th>\n",
              "      <td>240.000000</td>\n",
              "      <td>92.924000</td>\n",
              "      <td>90.914000</td>\n",
              "    </tr>\n",
              "    <tr>\n",
              "      <th>max</th>\n",
              "      <td>914.000000</td>\n",
              "      <td>604.991000</td>\n",
              "      <td>572.269000</td>\n",
              "    </tr>\n",
              "  </tbody>\n",
              "</table>\n",
              "</div>\n",
              "      <button class=\"colab-df-convert\" onclick=\"convertToInteractive('df-881c56e3-ecbf-453e-a2f0-0f7bd316f66a')\"\n",
              "              title=\"Convert this dataframe to an interactive table.\"\n",
              "              style=\"display:none;\">\n",
              "        \n",
              "  <svg xmlns=\"http://www.w3.org/2000/svg\" height=\"24px\"viewBox=\"0 0 24 24\"\n",
              "       width=\"24px\">\n",
              "    <path d=\"M0 0h24v24H0V0z\" fill=\"none\"/>\n",
              "    <path d=\"M18.56 5.44l.94 2.06.94-2.06 2.06-.94-2.06-.94-.94-2.06-.94 2.06-2.06.94zm-11 1L8.5 8.5l.94-2.06 2.06-.94-2.06-.94L8.5 2.5l-.94 2.06-2.06.94zm10 10l.94 2.06.94-2.06 2.06-.94-2.06-.94-.94-2.06-.94 2.06-2.06.94z\"/><path d=\"M17.41 7.96l-1.37-1.37c-.4-.4-.92-.59-1.43-.59-.52 0-1.04.2-1.43.59L10.3 9.45l-7.72 7.72c-.78.78-.78 2.05 0 2.83L4 21.41c.39.39.9.59 1.41.59.51 0 1.02-.2 1.41-.59l7.78-7.78 2.81-2.81c.8-.78.8-2.07 0-2.86zM5.41 20L4 18.59l7.72-7.72 1.47 1.35L5.41 20z\"/>\n",
              "  </svg>\n",
              "      </button>\n",
              "      \n",
              "  <style>\n",
              "    .colab-df-container {\n",
              "      display:flex;\n",
              "      flex-wrap:wrap;\n",
              "      gap: 12px;\n",
              "    }\n",
              "\n",
              "    .colab-df-convert {\n",
              "      background-color: #E8F0FE;\n",
              "      border: none;\n",
              "      border-radius: 50%;\n",
              "      cursor: pointer;\n",
              "      display: none;\n",
              "      fill: #1967D2;\n",
              "      height: 32px;\n",
              "      padding: 0 0 0 0;\n",
              "      width: 32px;\n",
              "    }\n",
              "\n",
              "    .colab-df-convert:hover {\n",
              "      background-color: #E2EBFA;\n",
              "      box-shadow: 0px 1px 2px rgba(60, 64, 67, 0.3), 0px 1px 3px 1px rgba(60, 64, 67, 0.15);\n",
              "      fill: #174EA6;\n",
              "    }\n",
              "\n",
              "    [theme=dark] .colab-df-convert {\n",
              "      background-color: #3B4455;\n",
              "      fill: #D2E3FC;\n",
              "    }\n",
              "\n",
              "    [theme=dark] .colab-df-convert:hover {\n",
              "      background-color: #434B5C;\n",
              "      box-shadow: 0px 1px 3px 1px rgba(0, 0, 0, 0.15);\n",
              "      filter: drop-shadow(0px 1px 2px rgba(0, 0, 0, 0.3));\n",
              "      fill: #FFFFFF;\n",
              "    }\n",
              "  </style>\n",
              "\n",
              "      <script>\n",
              "        const buttonEl =\n",
              "          document.querySelector('#df-881c56e3-ecbf-453e-a2f0-0f7bd316f66a button.colab-df-convert');\n",
              "        buttonEl.style.display =\n",
              "          google.colab.kernel.accessAllowed ? 'block' : 'none';\n",
              "\n",
              "        async function convertToInteractive(key) {\n",
              "          const element = document.querySelector('#df-881c56e3-ecbf-453e-a2f0-0f7bd316f66a');\n",
              "          const dataTable =\n",
              "            await google.colab.kernel.invokeFunction('convertToInteractive',\n",
              "                                                     [key], {});\n",
              "          if (!dataTable) return;\n",
              "\n",
              "          const docLinkHtml = 'Like what you see? Visit the ' +\n",
              "            '<a target=\"_blank\" href=https://colab.research.google.com/notebooks/data_table.ipynb>data table notebook</a>'\n",
              "            + ' to learn more about interactive tables.';\n",
              "          element.innerHTML = '';\n",
              "          dataTable['output_type'] = 'display_data';\n",
              "          await google.colab.output.renderOutput(dataTable, element);\n",
              "          const docLink = document.createElement('div');\n",
              "          docLink.innerHTML = docLinkHtml;\n",
              "          element.appendChild(docLink);\n",
              "        }\n",
              "      </script>\n",
              "    </div>\n",
              "  </div>\n",
              "  "
            ]
          },
          "metadata": {},
          "execution_count": 14
        }
      ]
    },
    {
      "cell_type": "code",
      "source": [
        "df"
      ],
      "metadata": {
        "colab": {
          "base_uri": "https://localhost:8080/",
          "height": 1000
        },
        "id": "Sn7S5F30rG8l",
        "outputId": "c3c38262-802d-45de-a38a-8785551285ba"
      },
      "execution_count": 15,
      "outputs": [
        {
          "output_type": "execute_result",
          "data": {
            "text/plain": [
              "                      PROVINSI  DIRAWAT  TERKONFIRMASI   SEMBUH      MENINGGAL\n",
              "0                   Jawa Timur      914        604.991  572.269    964079,6667\n",
              "1   Daerah Istimewa Yogyakarta      662        224.741  218.146    365333,6667\n",
              "2             Kalimantan Timur      304        209.483  203.446    340886,3333\n",
              "3                         Bali      309        167.212  162.166    271752,6667\n",
              "4               Sumatera Utara      435        159.433  155.702         260457\n",
              "5                         Riau      153        152.886  148.266         248548\n",
              "6             Sulawesi Selatan      250        144.792  142.045    237490,6667\n",
              "7               Sumatera Barat      210        104.796  102.207         171068\n",
              "8          Nusa Tenggara Timur      265         94.711   92.917         155283\n",
              "9           Kalimantan Selatan       73         87.563   84.905    142345,6667\n",
              "10            Sumatera Selatan      259         82.437   78.796    132367,6667\n",
              "11                     Lampung      201         75.754   71.357         120260\n",
              "12              Kepulauan Riau      103         70.984   68.991    115580,6667\n",
              "13   Kepulauan Bangka Belitung      118         66.309   64.575    108124,3333\n",
              "14            Kalimantan Barat      138         65.773   64.503    107836,3333\n",
              "15             Sulawesi Tengah      173         61.309   59.402    99523,66667\n",
              "16           Kalimantan Tengah       50         58.322   56.706    95015,33333\n",
              "17              Sulawesi Utara      428         53.205   51.557    86192,33333\n",
              "18                       Papua      201         50.095   49.314    82316,33333\n",
              "19            Kalimantan Utara       33         45.452   44.559    74540,66667\n",
              "20                        Aceh      123         44.190   41.837    70430,66667\n",
              "21                       Jambi       75         38.734   37.766          63216\n",
              "22         Nusa Tenggara Barat       29         36.278   35.347    59202,66667\n",
              "23                 Papua Barat      127         32.326   31.813          53108\n",
              "24                    Bengkulu       60         29.248   28.665    47929,33333\n",
              "25           Sulawesi Tenggara       67         25.747   25.110    42017,66667\n",
              "26                      Maluku       25         18.762   18.437          30820\n",
              "27              Sulawesi Barat       20         15.622   15.207          25470\n",
              "28                Maluku Utara       15         14.604   14.255    23864,66667\n",
              "29                   Gorontalo       41         13.961   13.433          22537\n",
              "30            SUMATERA_SELATAN        5         11.000    6.000    8,333333333\n",
              "31                          B`        1          1.000    0.000  -0,3333333333\n",
              "32        PROVINSI JAWA TENGAH        0          1.000    1.000              2\n",
              "33              LAMPUNG TENGAH        1          1.000    0.000  -0,3333333333"
            ],
            "text/html": [
              "\n",
              "  <div id=\"df-1a515353-165b-4144-8c23-c98fbe1ecb87\">\n",
              "    <div class=\"colab-df-container\">\n",
              "      <div>\n",
              "<style scoped>\n",
              "    .dataframe tbody tr th:only-of-type {\n",
              "        vertical-align: middle;\n",
              "    }\n",
              "\n",
              "    .dataframe tbody tr th {\n",
              "        vertical-align: top;\n",
              "    }\n",
              "\n",
              "    .dataframe thead th {\n",
              "        text-align: right;\n",
              "    }\n",
              "</style>\n",
              "<table border=\"1\" class=\"dataframe\">\n",
              "  <thead>\n",
              "    <tr style=\"text-align: right;\">\n",
              "      <th></th>\n",
              "      <th>PROVINSI</th>\n",
              "      <th>DIRAWAT</th>\n",
              "      <th>TERKONFIRMASI</th>\n",
              "      <th>SEMBUH</th>\n",
              "      <th>MENINGGAL</th>\n",
              "    </tr>\n",
              "  </thead>\n",
              "  <tbody>\n",
              "    <tr>\n",
              "      <th>0</th>\n",
              "      <td>Jawa Timur</td>\n",
              "      <td>914</td>\n",
              "      <td>604.991</td>\n",
              "      <td>572.269</td>\n",
              "      <td>964079,6667</td>\n",
              "    </tr>\n",
              "    <tr>\n",
              "      <th>1</th>\n",
              "      <td>Daerah Istimewa Yogyakarta</td>\n",
              "      <td>662</td>\n",
              "      <td>224.741</td>\n",
              "      <td>218.146</td>\n",
              "      <td>365333,6667</td>\n",
              "    </tr>\n",
              "    <tr>\n",
              "      <th>2</th>\n",
              "      <td>Kalimantan Timur</td>\n",
              "      <td>304</td>\n",
              "      <td>209.483</td>\n",
              "      <td>203.446</td>\n",
              "      <td>340886,3333</td>\n",
              "    </tr>\n",
              "    <tr>\n",
              "      <th>3</th>\n",
              "      <td>Bali</td>\n",
              "      <td>309</td>\n",
              "      <td>167.212</td>\n",
              "      <td>162.166</td>\n",
              "      <td>271752,6667</td>\n",
              "    </tr>\n",
              "    <tr>\n",
              "      <th>4</th>\n",
              "      <td>Sumatera Utara</td>\n",
              "      <td>435</td>\n",
              "      <td>159.433</td>\n",
              "      <td>155.702</td>\n",
              "      <td>260457</td>\n",
              "    </tr>\n",
              "    <tr>\n",
              "      <th>5</th>\n",
              "      <td>Riau</td>\n",
              "      <td>153</td>\n",
              "      <td>152.886</td>\n",
              "      <td>148.266</td>\n",
              "      <td>248548</td>\n",
              "    </tr>\n",
              "    <tr>\n",
              "      <th>6</th>\n",
              "      <td>Sulawesi Selatan</td>\n",
              "      <td>250</td>\n",
              "      <td>144.792</td>\n",
              "      <td>142.045</td>\n",
              "      <td>237490,6667</td>\n",
              "    </tr>\n",
              "    <tr>\n",
              "      <th>7</th>\n",
              "      <td>Sumatera Barat</td>\n",
              "      <td>210</td>\n",
              "      <td>104.796</td>\n",
              "      <td>102.207</td>\n",
              "      <td>171068</td>\n",
              "    </tr>\n",
              "    <tr>\n",
              "      <th>8</th>\n",
              "      <td>Nusa Tenggara Timur</td>\n",
              "      <td>265</td>\n",
              "      <td>94.711</td>\n",
              "      <td>92.917</td>\n",
              "      <td>155283</td>\n",
              "    </tr>\n",
              "    <tr>\n",
              "      <th>9</th>\n",
              "      <td>Kalimantan Selatan</td>\n",
              "      <td>73</td>\n",
              "      <td>87.563</td>\n",
              "      <td>84.905</td>\n",
              "      <td>142345,6667</td>\n",
              "    </tr>\n",
              "    <tr>\n",
              "      <th>10</th>\n",
              "      <td>Sumatera Selatan</td>\n",
              "      <td>259</td>\n",
              "      <td>82.437</td>\n",
              "      <td>78.796</td>\n",
              "      <td>132367,6667</td>\n",
              "    </tr>\n",
              "    <tr>\n",
              "      <th>11</th>\n",
              "      <td>Lampung</td>\n",
              "      <td>201</td>\n",
              "      <td>75.754</td>\n",
              "      <td>71.357</td>\n",
              "      <td>120260</td>\n",
              "    </tr>\n",
              "    <tr>\n",
              "      <th>12</th>\n",
              "      <td>Kepulauan Riau</td>\n",
              "      <td>103</td>\n",
              "      <td>70.984</td>\n",
              "      <td>68.991</td>\n",
              "      <td>115580,6667</td>\n",
              "    </tr>\n",
              "    <tr>\n",
              "      <th>13</th>\n",
              "      <td>Kepulauan Bangka Belitung</td>\n",
              "      <td>118</td>\n",
              "      <td>66.309</td>\n",
              "      <td>64.575</td>\n",
              "      <td>108124,3333</td>\n",
              "    </tr>\n",
              "    <tr>\n",
              "      <th>14</th>\n",
              "      <td>Kalimantan Barat</td>\n",
              "      <td>138</td>\n",
              "      <td>65.773</td>\n",
              "      <td>64.503</td>\n",
              "      <td>107836,3333</td>\n",
              "    </tr>\n",
              "    <tr>\n",
              "      <th>15</th>\n",
              "      <td>Sulawesi Tengah</td>\n",
              "      <td>173</td>\n",
              "      <td>61.309</td>\n",
              "      <td>59.402</td>\n",
              "      <td>99523,66667</td>\n",
              "    </tr>\n",
              "    <tr>\n",
              "      <th>16</th>\n",
              "      <td>Kalimantan Tengah</td>\n",
              "      <td>50</td>\n",
              "      <td>58.322</td>\n",
              "      <td>56.706</td>\n",
              "      <td>95015,33333</td>\n",
              "    </tr>\n",
              "    <tr>\n",
              "      <th>17</th>\n",
              "      <td>Sulawesi Utara</td>\n",
              "      <td>428</td>\n",
              "      <td>53.205</td>\n",
              "      <td>51.557</td>\n",
              "      <td>86192,33333</td>\n",
              "    </tr>\n",
              "    <tr>\n",
              "      <th>18</th>\n",
              "      <td>Papua</td>\n",
              "      <td>201</td>\n",
              "      <td>50.095</td>\n",
              "      <td>49.314</td>\n",
              "      <td>82316,33333</td>\n",
              "    </tr>\n",
              "    <tr>\n",
              "      <th>19</th>\n",
              "      <td>Kalimantan Utara</td>\n",
              "      <td>33</td>\n",
              "      <td>45.452</td>\n",
              "      <td>44.559</td>\n",
              "      <td>74540,66667</td>\n",
              "    </tr>\n",
              "    <tr>\n",
              "      <th>20</th>\n",
              "      <td>Aceh</td>\n",
              "      <td>123</td>\n",
              "      <td>44.190</td>\n",
              "      <td>41.837</td>\n",
              "      <td>70430,66667</td>\n",
              "    </tr>\n",
              "    <tr>\n",
              "      <th>21</th>\n",
              "      <td>Jambi</td>\n",
              "      <td>75</td>\n",
              "      <td>38.734</td>\n",
              "      <td>37.766</td>\n",
              "      <td>63216</td>\n",
              "    </tr>\n",
              "    <tr>\n",
              "      <th>22</th>\n",
              "      <td>Nusa Tenggara Barat</td>\n",
              "      <td>29</td>\n",
              "      <td>36.278</td>\n",
              "      <td>35.347</td>\n",
              "      <td>59202,66667</td>\n",
              "    </tr>\n",
              "    <tr>\n",
              "      <th>23</th>\n",
              "      <td>Papua Barat</td>\n",
              "      <td>127</td>\n",
              "      <td>32.326</td>\n",
              "      <td>31.813</td>\n",
              "      <td>53108</td>\n",
              "    </tr>\n",
              "    <tr>\n",
              "      <th>24</th>\n",
              "      <td>Bengkulu</td>\n",
              "      <td>60</td>\n",
              "      <td>29.248</td>\n",
              "      <td>28.665</td>\n",
              "      <td>47929,33333</td>\n",
              "    </tr>\n",
              "    <tr>\n",
              "      <th>25</th>\n",
              "      <td>Sulawesi Tenggara</td>\n",
              "      <td>67</td>\n",
              "      <td>25.747</td>\n",
              "      <td>25.110</td>\n",
              "      <td>42017,66667</td>\n",
              "    </tr>\n",
              "    <tr>\n",
              "      <th>26</th>\n",
              "      <td>Maluku</td>\n",
              "      <td>25</td>\n",
              "      <td>18.762</td>\n",
              "      <td>18.437</td>\n",
              "      <td>30820</td>\n",
              "    </tr>\n",
              "    <tr>\n",
              "      <th>27</th>\n",
              "      <td>Sulawesi Barat</td>\n",
              "      <td>20</td>\n",
              "      <td>15.622</td>\n",
              "      <td>15.207</td>\n",
              "      <td>25470</td>\n",
              "    </tr>\n",
              "    <tr>\n",
              "      <th>28</th>\n",
              "      <td>Maluku Utara</td>\n",
              "      <td>15</td>\n",
              "      <td>14.604</td>\n",
              "      <td>14.255</td>\n",
              "      <td>23864,66667</td>\n",
              "    </tr>\n",
              "    <tr>\n",
              "      <th>29</th>\n",
              "      <td>Gorontalo</td>\n",
              "      <td>41</td>\n",
              "      <td>13.961</td>\n",
              "      <td>13.433</td>\n",
              "      <td>22537</td>\n",
              "    </tr>\n",
              "    <tr>\n",
              "      <th>30</th>\n",
              "      <td>SUMATERA_SELATAN</td>\n",
              "      <td>5</td>\n",
              "      <td>11.000</td>\n",
              "      <td>6.000</td>\n",
              "      <td>8,333333333</td>\n",
              "    </tr>\n",
              "    <tr>\n",
              "      <th>31</th>\n",
              "      <td>B`</td>\n",
              "      <td>1</td>\n",
              "      <td>1.000</td>\n",
              "      <td>0.000</td>\n",
              "      <td>-0,3333333333</td>\n",
              "    </tr>\n",
              "    <tr>\n",
              "      <th>32</th>\n",
              "      <td>PROVINSI JAWA TENGAH</td>\n",
              "      <td>0</td>\n",
              "      <td>1.000</td>\n",
              "      <td>1.000</td>\n",
              "      <td>2</td>\n",
              "    </tr>\n",
              "    <tr>\n",
              "      <th>33</th>\n",
              "      <td>LAMPUNG TENGAH</td>\n",
              "      <td>1</td>\n",
              "      <td>1.000</td>\n",
              "      <td>0.000</td>\n",
              "      <td>-0,3333333333</td>\n",
              "    </tr>\n",
              "  </tbody>\n",
              "</table>\n",
              "</div>\n",
              "      <button class=\"colab-df-convert\" onclick=\"convertToInteractive('df-1a515353-165b-4144-8c23-c98fbe1ecb87')\"\n",
              "              title=\"Convert this dataframe to an interactive table.\"\n",
              "              style=\"display:none;\">\n",
              "        \n",
              "  <svg xmlns=\"http://www.w3.org/2000/svg\" height=\"24px\"viewBox=\"0 0 24 24\"\n",
              "       width=\"24px\">\n",
              "    <path d=\"M0 0h24v24H0V0z\" fill=\"none\"/>\n",
              "    <path d=\"M18.56 5.44l.94 2.06.94-2.06 2.06-.94-2.06-.94-.94-2.06-.94 2.06-2.06.94zm-11 1L8.5 8.5l.94-2.06 2.06-.94-2.06-.94L8.5 2.5l-.94 2.06-2.06.94zm10 10l.94 2.06.94-2.06 2.06-.94-2.06-.94-.94-2.06-.94 2.06-2.06.94z\"/><path d=\"M17.41 7.96l-1.37-1.37c-.4-.4-.92-.59-1.43-.59-.52 0-1.04.2-1.43.59L10.3 9.45l-7.72 7.72c-.78.78-.78 2.05 0 2.83L4 21.41c.39.39.9.59 1.41.59.51 0 1.02-.2 1.41-.59l7.78-7.78 2.81-2.81c.8-.78.8-2.07 0-2.86zM5.41 20L4 18.59l7.72-7.72 1.47 1.35L5.41 20z\"/>\n",
              "  </svg>\n",
              "      </button>\n",
              "      \n",
              "  <style>\n",
              "    .colab-df-container {\n",
              "      display:flex;\n",
              "      flex-wrap:wrap;\n",
              "      gap: 12px;\n",
              "    }\n",
              "\n",
              "    .colab-df-convert {\n",
              "      background-color: #E8F0FE;\n",
              "      border: none;\n",
              "      border-radius: 50%;\n",
              "      cursor: pointer;\n",
              "      display: none;\n",
              "      fill: #1967D2;\n",
              "      height: 32px;\n",
              "      padding: 0 0 0 0;\n",
              "      width: 32px;\n",
              "    }\n",
              "\n",
              "    .colab-df-convert:hover {\n",
              "      background-color: #E2EBFA;\n",
              "      box-shadow: 0px 1px 2px rgba(60, 64, 67, 0.3), 0px 1px 3px 1px rgba(60, 64, 67, 0.15);\n",
              "      fill: #174EA6;\n",
              "    }\n",
              "\n",
              "    [theme=dark] .colab-df-convert {\n",
              "      background-color: #3B4455;\n",
              "      fill: #D2E3FC;\n",
              "    }\n",
              "\n",
              "    [theme=dark] .colab-df-convert:hover {\n",
              "      background-color: #434B5C;\n",
              "      box-shadow: 0px 1px 3px 1px rgba(0, 0, 0, 0.15);\n",
              "      filter: drop-shadow(0px 1px 2px rgba(0, 0, 0, 0.3));\n",
              "      fill: #FFFFFF;\n",
              "    }\n",
              "  </style>\n",
              "\n",
              "      <script>\n",
              "        const buttonEl =\n",
              "          document.querySelector('#df-1a515353-165b-4144-8c23-c98fbe1ecb87 button.colab-df-convert');\n",
              "        buttonEl.style.display =\n",
              "          google.colab.kernel.accessAllowed ? 'block' : 'none';\n",
              "\n",
              "        async function convertToInteractive(key) {\n",
              "          const element = document.querySelector('#df-1a515353-165b-4144-8c23-c98fbe1ecb87');\n",
              "          const dataTable =\n",
              "            await google.colab.kernel.invokeFunction('convertToInteractive',\n",
              "                                                     [key], {});\n",
              "          if (!dataTable) return;\n",
              "\n",
              "          const docLinkHtml = 'Like what you see? Visit the ' +\n",
              "            '<a target=\"_blank\" href=https://colab.research.google.com/notebooks/data_table.ipynb>data table notebook</a>'\n",
              "            + ' to learn more about interactive tables.';\n",
              "          element.innerHTML = '';\n",
              "          dataTable['output_type'] = 'display_data';\n",
              "          await google.colab.output.renderOutput(dataTable, element);\n",
              "          const docLink = document.createElement('div');\n",
              "          docLink.innerHTML = docLinkHtml;\n",
              "          element.appendChild(docLink);\n",
              "        }\n",
              "      </script>\n",
              "    </div>\n",
              "  </div>\n",
              "  "
            ]
          },
          "metadata": {},
          "execution_count": 15
        }
      ]
    },
    {
      "cell_type": "code",
      "source": [
        "df.info"
      ],
      "metadata": {
        "colab": {
          "base_uri": "https://localhost:8080/"
        },
        "id": "KTQc4ADOrV3r",
        "outputId": "49939d41-64ca-44c8-d893-345dce24c442"
      },
      "execution_count": 16,
      "outputs": [
        {
          "output_type": "execute_result",
          "data": {
            "text/plain": [
              "<bound method DataFrame.info of                       PROVINSI  DIRAWAT  TERKONFIRMASI   SEMBUH      MENINGGAL\n",
              "0                   Jawa Timur      914        604.991  572.269    964079,6667\n",
              "1   Daerah Istimewa Yogyakarta      662        224.741  218.146    365333,6667\n",
              "2             Kalimantan Timur      304        209.483  203.446    340886,3333\n",
              "3                         Bali      309        167.212  162.166    271752,6667\n",
              "4               Sumatera Utara      435        159.433  155.702         260457\n",
              "5                         Riau      153        152.886  148.266         248548\n",
              "6             Sulawesi Selatan      250        144.792  142.045    237490,6667\n",
              "7               Sumatera Barat      210        104.796  102.207         171068\n",
              "8          Nusa Tenggara Timur      265         94.711   92.917         155283\n",
              "9           Kalimantan Selatan       73         87.563   84.905    142345,6667\n",
              "10            Sumatera Selatan      259         82.437   78.796    132367,6667\n",
              "11                     Lampung      201         75.754   71.357         120260\n",
              "12              Kepulauan Riau      103         70.984   68.991    115580,6667\n",
              "13   Kepulauan Bangka Belitung      118         66.309   64.575    108124,3333\n",
              "14            Kalimantan Barat      138         65.773   64.503    107836,3333\n",
              "15             Sulawesi Tengah      173         61.309   59.402    99523,66667\n",
              "16           Kalimantan Tengah       50         58.322   56.706    95015,33333\n",
              "17              Sulawesi Utara      428         53.205   51.557    86192,33333\n",
              "18                       Papua      201         50.095   49.314    82316,33333\n",
              "19            Kalimantan Utara       33         45.452   44.559    74540,66667\n",
              "20                        Aceh      123         44.190   41.837    70430,66667\n",
              "21                       Jambi       75         38.734   37.766          63216\n",
              "22         Nusa Tenggara Barat       29         36.278   35.347    59202,66667\n",
              "23                 Papua Barat      127         32.326   31.813          53108\n",
              "24                    Bengkulu       60         29.248   28.665    47929,33333\n",
              "25           Sulawesi Tenggara       67         25.747   25.110    42017,66667\n",
              "26                      Maluku       25         18.762   18.437          30820\n",
              "27              Sulawesi Barat       20         15.622   15.207          25470\n",
              "28                Maluku Utara       15         14.604   14.255    23864,66667\n",
              "29                   Gorontalo       41         13.961   13.433          22537\n",
              "30            SUMATERA_SELATAN        5         11.000    6.000    8,333333333\n",
              "31                          B`        1          1.000    0.000  -0,3333333333\n",
              "32        PROVINSI JAWA TENGAH        0          1.000    1.000              2\n",
              "33              LAMPUNG TENGAH        1          1.000    0.000  -0,3333333333>"
            ]
          },
          "metadata": {},
          "execution_count": 16
        }
      ]
    },
    {
      "cell_type": "code",
      "source": [
        "import matplotlib.pyplot as plt\n",
        "\n",
        "df.plot(kind='scatter', x='TERKONFIRMASI', y='SEMBUH')\n",
        "plt.title('indeks kesejahtraan warga')\n",
        "plt.xlabel('jumlah penduduk')\n",
        "plt.ylabel('indeks')\n",
        "plt.xlim(0, 604.991)\n",
        "plt.ylim(0, 572.269)\n",
        "plt.grid(True)\n",
        "plt.show()"
      ],
      "metadata": {
        "colab": {
          "base_uri": "https://localhost:8080/",
          "height": 295
        },
        "id": "b3wIAZy-rhY_",
        "outputId": "f296670a-078f-4a3f-83b1-f4f4d99043e1"
      },
      "execution_count": 17,
      "outputs": [
        {
          "output_type": "display_data",
          "data": {
            "text/plain": [
              "<Figure size 432x288 with 1 Axes>"
            ],
            "image/png": "[encoded data removed]"
          },
          "metadata": {
            "needs_background": "light"
          }
        }
      ]
    },
    {
      "cell_type": "code",
      "source": [
        "import numpy as np\n",
        "X = np.array(df['TERKONFIRMASI'])\n",
        "y = np.array(df['SEMBUH'])\n",
        "print(f'X : {X}')\n",
        "print(f'y : {y}')"
      ],
      "metadata": {
        "colab": {
          "base_uri": "https://localhost:8080/"
        },
        "id": "38qoPjjwCHgM",
        "outputId": "726d7266-0efe-4df4-cae5-5154bd7162fd"
      },
      "execution_count": 18,
      "outputs": [
        {
          "output_type": "stream",
          "name": "stdout",
          "text": [
            "X : [604.991 224.741 209.483 167.212 159.433 152.886 144.792 104.796  94.711\n",
            "  87.563  82.437  75.754  70.984  66.309  65.773  61.309  58.322  53.205\n",
            "  50.095  45.452  44.19   38.734  36.278  32.326  29.248  25.747  18.762\n",
            "  15.622  14.604  13.961  11.      1.      1.      1.   ]\n",
            "y : [572.269 218.146 203.446 162.166 155.702 148.266 142.045 102.207  92.917\n",
            "  84.905  78.796  71.357  68.991  64.575  64.503  59.402  56.706  51.557\n",
            "  49.314  44.559  41.837  37.766  35.347  31.813  28.665  25.11   18.437\n",
            "  15.207  14.255  13.433   6.      0.      1.      0.   ]\n"
          ]
        }
      ]
    },
    {
      "cell_type": "code",
      "source": [
        "X = X.reshape(-1, 1)\n",
        "X.shape"
      ],
      "metadata": {
        "colab": {
          "base_uri": "https://localhost:8080/"
        },
        "id": "wqa2jWp9C_VJ",
        "outputId": "96cf7ae0-c8f3-41cf-a10d-a712823ac9ac"
      },
      "execution_count": 19,
      "outputs": [
        {
          "output_type": "execute_result",
          "data": {
            "text/plain": [
              "(34, 1)"
            ]
          },
          "metadata": {},
          "execution_count": 19
        }
      ]
    },
    {
      "cell_type": "code",
      "source": [
        "X"
      ],
      "metadata": {
        "colab": {
          "base_uri": "https://localhost:8080/"
        },
        "id": "ZLXwIxnRD2ce",
        "outputId": "703d0691-f3e0-472f-c173-2b1d626a53c3"
      },
      "execution_count": 20,
      "outputs": [
        {
          "output_type": "execute_result",
          "data": {
            "text/plain": [
              "array([[604.991],\n",
              "       [224.741],\n",
              "       [209.483],\n",
              "       [167.212],\n",
              "       [159.433],\n",
              "       [152.886],\n",
              "       [144.792],\n",
              "       [104.796],\n",
              "       [ 94.711],\n",
              "       [ 87.563],\n",
              "       [ 82.437],\n",
              "       [ 75.754],\n",
              "       [ 70.984],\n",
              "       [ 66.309],\n",
              "       [ 65.773],\n",
              "       [ 61.309],\n",
              "       [ 58.322],\n",
              "       [ 53.205],\n",
              "       [ 50.095],\n",
              "       [ 45.452],\n",
              "       [ 44.19 ],\n",
              "       [ 38.734],\n",
              "       [ 36.278],\n",
              "       [ 32.326],\n",
              "       [ 29.248],\n",
              "       [ 25.747],\n",
              "       [ 18.762],\n",
              "       [ 15.622],\n",
              "       [ 14.604],\n",
              "       [ 13.961],\n",
              "       [ 11.   ],\n",
              "       [  1.   ],\n",
              "       [  1.   ],\n",
              "       [  1.   ]])"
            ]
          },
          "metadata": {},
          "execution_count": 20
        }
      ]
    },
    {
      "cell_type": "code",
      "source": [
        "from sklearn.linear_model import LinearRegression\n",
        "model = LinearRegression()\n",
        "model.fit(X, y)"
      ],
      "metadata": {
        "colab": {
          "base_uri": "https://localhost:8080/"
        },
        "id": "mTPXXUahD68_",
        "outputId": "897405ba-793d-45dd-8ee3-832d10372091"
      },
      "execution_count": 21,
      "outputs": [
        {
          "output_type": "execute_result",
          "data": {
            "text/plain": [
              "LinearRegression()"
            ]
          },
          "metadata": {},
          "execution_count": 21
        }
      ]
    },
    {
      "cell_type": "code",
      "source": [
        "X_vis = np.array([0, 10000]).reshape(-1, 1)\n",
        "y_vis = model.predict(X_vis)"
      ],
      "metadata": {
        "id": "v-WwQs_rD-_n"
      },
      "execution_count": 22,
      "outputs": []
    },
    {
      "cell_type": "code",
      "source": [
        "plt.scatter(X, y)\n",
        "plt.plot(X_vis, y_vis, 'r')\n",
        "plt.title('indeks kesejahtraan warga')\n",
        "plt.xlabel('jumlah penduduk')\n",
        "plt.ylabel('indeks')\n",
        "plt.xlim(0, 605.991)\n",
        "plt.ylim(0, 572.269)\n",
        "plt.grid(True)\n",
        "plt.show()"
      ],
      "metadata": {
        "colab": {
          "base_uri": "https://localhost:8080/",
          "height": 295
        },
        "id": "Y9EUQQ6PECU4",
        "outputId": "dc352708-030b-42c1-c78c-1d904cd49a8b"
      },
      "execution_count": 23,
      "outputs": [
        {
          "output_type": "display_data",
          "data": {
            "text/plain": [
              "<Figure size 432x288 with 1 Axes>"
            ],
            "image/png": "[encoded data removed]"
          },
          "metadata": {
            "needs_background": "light"
          }
        }
      ]
    },
    {
      "cell_type": "code",
      "source": [
        "fig = plt.figure()\n",
        "ax = fig.add_axes([0,0,1,1])\n",
        "ekskul = df[ 'TERKONFIRMASI']\n",
        "mengikuti = df['SEMBUH']\n",
        "c = 'black', 'pink', 'blue'\n",
        "plt.title(\"COVID\")\n",
        "plt.bar(ekskul, mengikuti, color = c)\n",
        "plt.show()"
      ],
      "metadata": {
        "colab": {
          "base_uri": "https://localhost:8080/",
          "height": 352
        },
        "id": "zG4ihCNiZRGN",
        "outputId": "a7b65746-56b7-4785-bbb2-8d52eaaebb29"
      },
      "execution_count": 24,
      "outputs": [
        {
          "output_type": "display_data",
          "data": {
            "text/plain": [
              "<Figure size 432x288 with 1 Axes>"
            ],
            "image/png": "[encoded data removed]"
          },
          "metadata": {
            "needs_background": "light"
          }
        }
      ]
    },
    {
      "cell_type": "code",
      "source": [
        "print(\"\")\n",
        "fig = plt.figure()\n",
        "ax = fig.add_axes([0,0,1,1])\n",
        "ax.axis('equal')\n",
        "plt.title(\"usia\")\n",
        "ekskul = df[ 'TERKONFIRMASI']\n",
        "mengikuti = df['SEMBUH']\n",
        "plt.title(\"Data covid\")\n",
        "ax.pie(mengikuti,labels=ekskul,autopct='%1.2f%%')\n",
        "plt.show()"
      ],
      "metadata": {
        "colab": {
          "base_uri": "https://localhost:8080/",
          "height": 352
        },
        "id": "KUh-K-NCcFos",
        "outputId": "1ac09709-cd27-4092-c360-127759bfecee"
      },
      "execution_count": 25,
      "outputs": [
        {
          "output_type": "stream",
          "name": "stdout",
          "text": [
            "\n"
          ]
        },
        {
          "output_type": "display_data",
          "data": {
            "text/plain": [
              "<Figure size 432x288 with 1 Axes>"
            ],
            "image/png": "[encoded data removed]"
          },
          "metadata": {}
        }
      ]
    },
    {
      "cell_type": "code",
      "source": [
        "TERKONFIRMASI = np.array([2330, 5200, 8800, 3200, 1200]).reshape(-1, 1)\n",
        "TERKONFIRMASI"
      ],
      "metadata": {
        "colab": {
          "base_uri": "https://localhost:8080/"
        },
        "id": "_zm0Wp24fvD1",
        "outputId": "43a900b5-4852-4096-cb0f-9be5119800e0"
      },
      "execution_count": 26,
      "outputs": [
        {
          "output_type": "execute_result",
          "data": {
            "text/plain": [
              "array([[2330],\n",
              "       [5200],\n",
              "       [8800],\n",
              "       [3200],\n",
              "       [1200]])"
            ]
          },
          "metadata": {},
          "execution_count": 26
        }
      ]
    },
    {
      "cell_type": "code",
      "source": [
        "prediksi_indeks = model.predict(TERKONFIRMASI)\n",
        "prediksi_indeks"
      ],
      "metadata": {
        "colab": {
          "base_uri": "https://localhost:8080/"
        },
        "id": "KehS01dnfw14",
        "outputId": "c9394698-8eb0-4c68-d896-1e2125f52623"
      },
      "execution_count": 27,
      "outputs": [
        {
          "output_type": "execute_result",
          "data": {
            "text/plain": [
              "array([2220.1052336 , 4953.53675442, 8382.231345  , 3048.70642632,\n",
              "       1143.87609822])"
            ]
          },
          "metadata": {},
          "execution_count": 27
        }
      ]
    },
    {
      "cell_type": "code",
      "source": [
        "for SEMBUH, index in zip(TERKONFIRMASI, prediksi_indeks):\n",
        "  print(f'Jumlah Penduduk : {SEMBUH} prediksi indeks : {index}')"
      ],
      "metadata": {
        "colab": {
          "base_uri": "https://localhost:8080/"
        },
        "id": "KbBVfUS1f35g",
        "outputId": "3d35c4c9-db51-4768-b466-56acb3ef79ce"
      },
      "execution_count": 28,
      "outputs": [
        {
          "output_type": "stream",
          "name": "stdout",
          "text": [
            "Jumlah Penduduk : [2330] prediksi indeks : 2220.105233599862\n",
            "Jumlah Penduduk : [5200] prediksi indeks : 4953.536754421391\n",
            "Jumlah Penduduk : [8800] prediksi indeks : 8382.23134499892\n",
            "Jumlah Penduduk : [3200] prediksi indeks : 3048.7064263227644\n",
            "Jumlah Penduduk : [1200] prediksi indeks : 1143.8760982241379\n"
          ]
        }
      ]
    }
  ]
}