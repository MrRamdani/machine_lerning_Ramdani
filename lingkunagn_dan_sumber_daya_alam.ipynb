{
  "nbformat": 4,
  "nbformat_minor": 0,
  "metadata": {
    "colab": {
      "provenance": [],
      "collapsed_sections": []
    },
    "kernelspec": {
      "name": "python3",
      "display_name": "Python 3"
    },
    "language_info": {
      "name": "python"
    }
  },
  "cells": [
    {
      "cell_type": "code",
      "execution_count": 1,
      "metadata": {
        "colab": {
          "base_uri": "https://localhost:8080/"
        },
        "id": "N9hMo9sF1mRu",
        "outputId": "6f20013c-f3d1-4c3e-917d-cd9e9d9f2678"
      },
      "outputs": [
        {
          "output_type": "stream",
          "name": "stdout",
          "text": [
            "Mounted at /content/drive\n"
          ]
        }
      ],
      "source": [
        "from google.colab import drive\n",
        "drive.mount('/content/drive')"
      ]
    },
    {
      "cell_type": "code",
      "source": [
        "import pandas as pd\n",
        "path = '/content/drive/MyDrive/CSV/udara - Sheet1.csv'\n",
        "df = pd.read_csv(path)\n",
        "df.describe()"
      ],
      "metadata": {
        "colab": {
          "base_uri": "https://localhost:8080/",
          "height": 300
        },
        "id": "S7vguP1c8Nke",
        "outputId": "82570e6c-f94f-4d9c-d41c-55609e46042f"
      },
      "execution_count": 2,
      "outputs": [
        {
          "output_type": "execute_result",
          "data": {
            "text/plain": [
              "            pm10         co         o3        no2        max\n",
              "count  29.000000  29.000000  29.000000  29.000000  29.000000\n",
              "mean   39.068966  20.137931  33.413793  10.931034  42.068966\n",
              "std    10.460576   9.081866  11.387704   3.954482  11.275546\n",
              "min    24.000000   9.000000  16.000000   4.000000  25.000000\n",
              "25%    30.000000  14.000000  27.000000   8.000000  35.000000\n",
              "50%    37.000000  18.000000  32.000000  10.000000  39.000000\n",
              "75%    46.000000  25.000000  36.000000  13.000000  47.000000\n",
              "max    63.000000  51.000000  74.000000  20.000000  74.000000"
            ],
            "text/html": [
              "\n",
              "  <div id=\"df-67193794-d7d0-421a-a03c-6bf27c088962\">\n",
              "    <div class=\"colab-df-container\">\n",
              "      <div>\n",
              "<style scoped>\n",
              "    .dataframe tbody tr th:only-of-type {\n",
              "        vertical-align: middle;\n",
              "    }\n",
              "\n",
              "    .dataframe tbody tr th {\n",
              "        vertical-align: top;\n",
              "    }\n",
              "\n",
              "    .dataframe thead th {\n",
              "        text-align: right;\n",
              "    }\n",
              "</style>\n",
              "<table border=\"1\" class=\"dataframe\">\n",
              "  <thead>\n",
              "    <tr style=\"text-align: right;\">\n",
              "      <th></th>\n",
              "      <th>pm10</th>\n",
              "      <th>co</th>\n",
              "      <th>o3</th>\n",
              "      <th>no2</th>\n",
              "      <th>max</th>\n",
              "    </tr>\n",
              "  </thead>\n",
              "  <tbody>\n",
              "    <tr>\n",
              "      <th>count</th>\n",
              "      <td>29.000000</td>\n",
              "      <td>29.000000</td>\n",
              "      <td>29.000000</td>\n",
              "      <td>29.000000</td>\n",
              "      <td>29.000000</td>\n",
              "    </tr>\n",
              "    <tr>\n",
              "      <th>mean</th>\n",
              "      <td>39.068966</td>\n",
              "      <td>20.137931</td>\n",
              "      <td>33.413793</td>\n",
              "      <td>10.931034</td>\n",
              "      <td>42.068966</td>\n",
              "    </tr>\n",
              "    <tr>\n",
              "      <th>std</th>\n",
              "      <td>10.460576</td>\n",
              "      <td>9.081866</td>\n",
              "      <td>11.387704</td>\n",
              "      <td>3.954482</td>\n",
              "      <td>11.275546</td>\n",
              "    </tr>\n",
              "    <tr>\n",
              "      <th>min</th>\n",
              "      <td>24.000000</td>\n",
              "      <td>9.000000</td>\n",
              "      <td>16.000000</td>\n",
              "      <td>4.000000</td>\n",
              "      <td>25.000000</td>\n",
              "    </tr>\n",
              "    <tr>\n",
              "      <th>25%</th>\n",
              "      <td>30.000000</td>\n",
              "      <td>14.000000</td>\n",
              "      <td>27.000000</td>\n",
              "      <td>8.000000</td>\n",
              "      <td>35.000000</td>\n",
              "    </tr>\n",
              "    <tr>\n",
              "      <th>50%</th>\n",
              "      <td>37.000000</td>\n",
              "      <td>18.000000</td>\n",
              "      <td>32.000000</td>\n",
              "      <td>10.000000</td>\n",
              "      <td>39.000000</td>\n",
              "    </tr>\n",
              "    <tr>\n",
              "      <th>75%</th>\n",
              "      <td>46.000000</td>\n",
              "      <td>25.000000</td>\n",
              "      <td>36.000000</td>\n",
              "      <td>13.000000</td>\n",
              "      <td>47.000000</td>\n",
              "    </tr>\n",
              "    <tr>\n",
              "      <th>max</th>\n",
              "      <td>63.000000</td>\n",
              "      <td>51.000000</td>\n",
              "      <td>74.000000</td>\n",
              "      <td>20.000000</td>\n",
              "      <td>74.000000</td>\n",
              "    </tr>\n",
              "  </tbody>\n",
              "</table>\n",
              "</div>\n",
              "      <button class=\"colab-df-convert\" onclick=\"convertToInteractive('df-67193794-d7d0-421a-a03c-6bf27c088962')\"\n",
              "              title=\"Convert this dataframe to an interactive table.\"\n",
              "              style=\"display:none;\">\n",
              "        \n",
              "  <svg xmlns=\"http://www.w3.org/2000/svg\" height=\"24px\"viewBox=\"0 0 24 24\"\n",
              "       width=\"24px\">\n",
              "    <path d=\"M0 0h24v24H0V0z\" fill=\"none\"/>\n",
              "    <path d=\"M18.56 5.44l.94 2.06.94-2.06 2.06-.94-2.06-.94-.94-2.06-.94 2.06-2.06.94zm-11 1L8.5 8.5l.94-2.06 2.06-.94-2.06-.94L8.5 2.5l-.94 2.06-2.06.94zm10 10l.94 2.06.94-2.06 2.06-.94-2.06-.94-.94-2.06-.94 2.06-2.06.94z\"/><path d=\"M17.41 7.96l-1.37-1.37c-.4-.4-.92-.59-1.43-.59-.52 0-1.04.2-1.43.59L10.3 9.45l-7.72 7.72c-.78.78-.78 2.05 0 2.83L4 21.41c.39.39.9.59 1.41.59.51 0 1.02-.2 1.41-.59l7.78-7.78 2.81-2.81c.8-.78.8-2.07 0-2.86zM5.41 20L4 18.59l7.72-7.72 1.47 1.35L5.41 20z\"/>\n",
              "  </svg>\n",
              "      </button>\n",
              "      \n",
              "  <style>\n",
              "    .colab-df-container {\n",
              "      display:flex;\n",
              "      flex-wrap:wrap;\n",
              "      gap: 12px;\n",
              "    }\n",
              "\n",
              "    .colab-df-convert {\n",
              "      background-color: #E8F0FE;\n",
              "      border: none;\n",
              "      border-radius: 50%;\n",
              "      cursor: pointer;\n",
              "      display: none;\n",
              "      fill: #1967D2;\n",
              "      height: 32px;\n",
              "      padding: 0 0 0 0;\n",
              "      width: 32px;\n",
              "    }\n",
              "\n",
              "    .colab-df-convert:hover {\n",
              "      background-color: #E2EBFA;\n",
              "      box-shadow: 0px 1px 2px rgba(60, 64, 67, 0.3), 0px 1px 3px 1px rgba(60, 64, 67, 0.15);\n",
              "      fill: #174EA6;\n",
              "    }\n",
              "\n",
              "    [theme=dark] .colab-df-convert {\n",
              "      background-color: #3B4455;\n",
              "      fill: #D2E3FC;\n",
              "    }\n",
              "\n",
              "    [theme=dark] .colab-df-convert:hover {\n",
              "      background-color: #434B5C;\n",
              "      box-shadow: 0px 1px 3px 1px rgba(0, 0, 0, 0.15);\n",
              "      filter: drop-shadow(0px 1px 2px rgba(0, 0, 0, 0.3));\n",
              "      fill: #FFFFFF;\n",
              "    }\n",
              "  </style>\n",
              "\n",
              "      <script>\n",
              "        const buttonEl =\n",
              "          document.querySelector('#df-67193794-d7d0-421a-a03c-6bf27c088962 button.colab-df-convert');\n",
              "        buttonEl.style.display =\n",
              "          google.colab.kernel.accessAllowed ? 'block' : 'none';\n",
              "\n",
              "        async function convertToInteractive(key) {\n",
              "          const element = document.querySelector('#df-67193794-d7d0-421a-a03c-6bf27c088962');\n",
              "          const dataTable =\n",
              "            await google.colab.kernel.invokeFunction('convertToInteractive',\n",
              "                                                     [key], {});\n",
              "          if (!dataTable) return;\n",
              "\n",
              "          const docLinkHtml = 'Like what you see? Visit the ' +\n",
              "            '<a target=\"_blank\" href=https://colab.research.google.com/notebooks/data_table.ipynb>data table notebook</a>'\n",
              "            + ' to learn more about interactive tables.';\n",
              "          element.innerHTML = '';\n",
              "          dataTable['output_type'] = 'display_data';\n",
              "          await google.colab.output.renderOutput(dataTable, element);\n",
              "          const docLink = document.createElement('div');\n",
              "          docLink.innerHTML = docLinkHtml;\n",
              "          element.appendChild(docLink);\n",
              "        }\n",
              "      </script>\n",
              "    </div>\n",
              "  </div>\n",
              "  "
            ]
          },
          "metadata": {},
          "execution_count": 2
        }
      ]
    },
    {
      "cell_type": "code",
      "source": [
        "df"
      ],
      "metadata": {
        "colab": {
          "base_uri": "https://localhost:8080/",
          "height": 959
        },
        "id": "rl3fxTSF8XBf",
        "outputId": "73128d00-f6d2-4f37-f95f-723f2c28ee99"
      },
      "execution_count": 3,
      "outputs": [
        {
          "output_type": "execute_result",
          "data": {
            "text/plain": [
              "       tanggal             stasiun  pm10  so2  co  o3  no2  max critical  \\\n",
              "0   2020-01-01  DKI1 (Bunderan HI)    30   20  10  32    9   32       O3   \n",
              "1   2020-01-02  DKI1 (Bunderan HI)    27   22  12  29    8   29       O3   \n",
              "2   2020-01-03  DKI1 (Bunderan HI)    39   22  14  32   10   39     PM10   \n",
              "3   2020-01-04  DKI1 (Bunderan HI)    34   22  14  38   10   38       O3   \n",
              "4   2020-01-05  DKI1 (Bunderan HI)    35   22  12  31    9   35     PM10   \n",
              "5   2020-01-06  DKI1 (Bunderan HI)    46   23  16  32    9   46     PM10   \n",
              "6   2020-01-07  DKI1 (Bunderan HI)    37   23  26  33   11   37     PM10   \n",
              "7   2020-01-08  DKI1 (Bunderan HI)    41   26  20  30   11   41     PM10   \n",
              "8   2020-01-09  DKI1 (Bunderan HI)    52   23  29  24   12   52     PM10   \n",
              "9   2020-01-10  DKI1 (Bunderan HI)    24   24  18  25    8   25       O3   \n",
              "10  2020-01-11  DKI1 (Bunderan HI)    34   31  25  23    8   34     PM10   \n",
              "11  2020-01-12  DKI1 (Bunderan HI)    27   23   9  33    4   33       O3   \n",
              "12  2020-01-13  DKI1 (Bunderan HI)    33   26  12  36    8   36       O3   \n",
              "13  2020-01-14  DKI1 (Bunderan HI)    34   28  13  27    7   34     PM10   \n",
              "14  2020-01-15  DKI1 (Bunderan HI)    29   22  13  36    8   36       O3   \n",
              "15  2020-01-16  DKI1 (Bunderan HI)    52   60  19  30    8   60      SO2   \n",
              "16  2020-01-17  DKI1 (Bunderan HI)    51   34  21  74   20   74       O3   \n",
              "17  2020-01-18  DKI1 (Bunderan HI)    37   29  14  31    6   37     PM10   \n",
              "18  2020-01-19  DKI1 (Bunderan HI)    61   34  36  58   15   61     PM10   \n",
              "19  2020-01-20  DKI1 (Bunderan HI)    47   30  15  33    9   47     PM10   \n",
              "20  2020-01-21  DKI1 (Bunderan HI)    30   36  14  26    9   36      SO2   \n",
              "21  2020-01-22  DKI1 (Bunderan HI)    40   36  18  28   15   40     PM10   \n",
              "22  2020-01-23  DKI1 (Bunderan HI)    41  ---  27  19   18   41     PM10   \n",
              "23  2020-01-24  DKI1 (Bunderan HI)    44  ---  24  16   13   44     PM10   \n",
              "24  2020-01-25  DKI1 (Bunderan HI)    27  ---  31  27   12   31       CO   \n",
              "25  2020-01-26  DKI1 (Bunderan HI)    44  ---  51  49   11   51       CO   \n",
              "26  2020-01-27  DKI1 (Bunderan HI)    25  ---  21  39   13   39       O3   \n",
              "27  2020-01-28  DKI1 (Bunderan HI)    63  ---  27  40   17   63     PM10   \n",
              "28  2020-01-29  DKI1 (Bunderan HI)    49   11  23  38   19   49     PM10   \n",
              "\n",
              "   categori  \n",
              "0      BAIK  \n",
              "1      BAIK  \n",
              "2      BAIK  \n",
              "3      BAIK  \n",
              "4      BAIK  \n",
              "5      BAIK  \n",
              "6      BAIK  \n",
              "7      BAIK  \n",
              "8    SEDANG  \n",
              "9      BAIK  \n",
              "10     BAIK  \n",
              "11     BAIK  \n",
              "12     BAIK  \n",
              "13     BAIK  \n",
              "14     BAIK  \n",
              "15   SEDANG  \n",
              "16   SEDANG  \n",
              "17     BAIK  \n",
              "18   SEDANG  \n",
              "19     BAIK  \n",
              "20     BAIK  \n",
              "21     BAIK  \n",
              "22     BAIK  \n",
              "23     BAIK  \n",
              "24     BAIK  \n",
              "25   SEDANG  \n",
              "26     BAIK  \n",
              "27   SEDANG  \n",
              "28     BAIK  "
            ],
            "text/html": [
              "\n",
              "  <div id=\"df-b650086d-c3a9-43d4-933d-b1c864c3d9c0\">\n",
              "    <div class=\"colab-df-container\">\n",
              "      <div>\n",
              "<style scoped>\n",
              "    .dataframe tbody tr th:only-of-type {\n",
              "        vertical-align: middle;\n",
              "    }\n",
              "\n",
              "    .dataframe tbody tr th {\n",
              "        vertical-align: top;\n",
              "    }\n",
              "\n",
              "    .dataframe thead th {\n",
              "        text-align: right;\n",
              "    }\n",
              "</style>\n",
              "<table border=\"1\" class=\"dataframe\">\n",
              "  <thead>\n",
              "    <tr style=\"text-align: right;\">\n",
              "      <th></th>\n",
              "      <th>tanggal</th>\n",
              "      <th>stasiun</th>\n",
              "      <th>pm10</th>\n",
              "      <th>so2</th>\n",
              "      <th>co</th>\n",
              "      <th>o3</th>\n",
              "      <th>no2</th>\n",
              "      <th>max</th>\n",
              "      <th>critical</th>\n",
              "      <th>categori</th>\n",
              "    </tr>\n",
              "  </thead>\n",
              "  <tbody>\n",
              "    <tr>\n",
              "      <th>0</th>\n",
              "      <td>2020-01-01</td>\n",
              "      <td>DKI1 (Bunderan HI)</td>\n",
              "      <td>30</td>\n",
              "      <td>20</td>\n",
              "      <td>10</td>\n",
              "      <td>32</td>\n",
              "      <td>9</td>\n",
              "      <td>32</td>\n",
              "      <td>O3</td>\n",
              "      <td>BAIK</td>\n",
              "    </tr>\n",
              "    <tr>\n",
              "      <th>1</th>\n",
              "      <td>2020-01-02</td>\n",
              "      <td>DKI1 (Bunderan HI)</td>\n",
              "      <td>27</td>\n",
              "      <td>22</td>\n",
              "      <td>12</td>\n",
              "      <td>29</td>\n",
              "      <td>8</td>\n",
              "      <td>29</td>\n",
              "      <td>O3</td>\n",
              "      <td>BAIK</td>\n",
              "    </tr>\n",
              "    <tr>\n",
              "      <th>2</th>\n",
              "      <td>2020-01-03</td>\n",
              "      <td>DKI1 (Bunderan HI)</td>\n",
              "      <td>39</td>\n",
              "      <td>22</td>\n",
              "      <td>14</td>\n",
              "      <td>32</td>\n",
              "      <td>10</td>\n",
              "      <td>39</td>\n",
              "      <td>PM10</td>\n",
              "      <td>BAIK</td>\n",
              "    </tr>\n",
              "    <tr>\n",
              "      <th>3</th>\n",
              "      <td>2020-01-04</td>\n",
              "      <td>DKI1 (Bunderan HI)</td>\n",
              "      <td>34</td>\n",
              "      <td>22</td>\n",
              "      <td>14</td>\n",
              "      <td>38</td>\n",
              "      <td>10</td>\n",
              "      <td>38</td>\n",
              "      <td>O3</td>\n",
              "      <td>BAIK</td>\n",
              "    </tr>\n",
              "    <tr>\n",
              "      <th>4</th>\n",
              "      <td>2020-01-05</td>\n",
              "      <td>DKI1 (Bunderan HI)</td>\n",
              "      <td>35</td>\n",
              "      <td>22</td>\n",
              "      <td>12</td>\n",
              "      <td>31</td>\n",
              "      <td>9</td>\n",
              "      <td>35</td>\n",
              "      <td>PM10</td>\n",
              "      <td>BAIK</td>\n",
              "    </tr>\n",
              "    <tr>\n",
              "      <th>5</th>\n",
              "      <td>2020-01-06</td>\n",
              "      <td>DKI1 (Bunderan HI)</td>\n",
              "      <td>46</td>\n",
              "      <td>23</td>\n",
              "      <td>16</td>\n",
              "      <td>32</td>\n",
              "      <td>9</td>\n",
              "      <td>46</td>\n",
              "      <td>PM10</td>\n",
              "      <td>BAIK</td>\n",
              "    </tr>\n",
              "    <tr>\n",
              "      <th>6</th>\n",
              "      <td>2020-01-07</td>\n",
              "      <td>DKI1 (Bunderan HI)</td>\n",
              "      <td>37</td>\n",
              "      <td>23</td>\n",
              "      <td>26</td>\n",
              "      <td>33</td>\n",
              "      <td>11</td>\n",
              "      <td>37</td>\n",
              "      <td>PM10</td>\n",
              "      <td>BAIK</td>\n",
              "    </tr>\n",
              "    <tr>\n",
              "      <th>7</th>\n",
              "      <td>2020-01-08</td>\n",
              "      <td>DKI1 (Bunderan HI)</td>\n",
              "      <td>41</td>\n",
              "      <td>26</td>\n",
              "      <td>20</td>\n",
              "      <td>30</td>\n",
              "      <td>11</td>\n",
              "      <td>41</td>\n",
              "      <td>PM10</td>\n",
              "      <td>BAIK</td>\n",
              "    </tr>\n",
              "    <tr>\n",
              "      <th>8</th>\n",
              "      <td>2020-01-09</td>\n",
              "      <td>DKI1 (Bunderan HI)</td>\n",
              "      <td>52</td>\n",
              "      <td>23</td>\n",
              "      <td>29</td>\n",
              "      <td>24</td>\n",
              "      <td>12</td>\n",
              "      <td>52</td>\n",
              "      <td>PM10</td>\n",
              "      <td>SEDANG</td>\n",
              "    </tr>\n",
              "    <tr>\n",
              "      <th>9</th>\n",
              "      <td>2020-01-10</td>\n",
              "      <td>DKI1 (Bunderan HI)</td>\n",
              "      <td>24</td>\n",
              "      <td>24</td>\n",
              "      <td>18</td>\n",
              "      <td>25</td>\n",
              "      <td>8</td>\n",
              "      <td>25</td>\n",
              "      <td>O3</td>\n",
              "      <td>BAIK</td>\n",
              "    </tr>\n",
              "    <tr>\n",
              "      <th>10</th>\n",
              "      <td>2020-01-11</td>\n",
              "      <td>DKI1 (Bunderan HI)</td>\n",
              "      <td>34</td>\n",
              "      <td>31</td>\n",
              "      <td>25</td>\n",
              "      <td>23</td>\n",
              "      <td>8</td>\n",
              "      <td>34</td>\n",
              "      <td>PM10</td>\n",
              "      <td>BAIK</td>\n",
              "    </tr>\n",
              "    <tr>\n",
              "      <th>11</th>\n",
              "      <td>2020-01-12</td>\n",
              "      <td>DKI1 (Bunderan HI)</td>\n",
              "      <td>27</td>\n",
              "      <td>23</td>\n",
              "      <td>9</td>\n",
              "      <td>33</td>\n",
              "      <td>4</td>\n",
              "      <td>33</td>\n",
              "      <td>O3</td>\n",
              "      <td>BAIK</td>\n",
              "    </tr>\n",
              "    <tr>\n",
              "      <th>12</th>\n",
              "      <td>2020-01-13</td>\n",
              "      <td>DKI1 (Bunderan HI)</td>\n",
              "      <td>33</td>\n",
              "      <td>26</td>\n",
              "      <td>12</td>\n",
              "      <td>36</td>\n",
              "      <td>8</td>\n",
              "      <td>36</td>\n",
              "      <td>O3</td>\n",
              "      <td>BAIK</td>\n",
              "    </tr>\n",
              "    <tr>\n",
              "      <th>13</th>\n",
              "      <td>2020-01-14</td>\n",
              "      <td>DKI1 (Bunderan HI)</td>\n",
              "      <td>34</td>\n",
              "      <td>28</td>\n",
              "      <td>13</td>\n",
              "      <td>27</td>\n",
              "      <td>7</td>\n",
              "      <td>34</td>\n",
              "      <td>PM10</td>\n",
              "      <td>BAIK</td>\n",
              "    </tr>\n",
              "    <tr>\n",
              "      <th>14</th>\n",
              "      <td>2020-01-15</td>\n",
              "      <td>DKI1 (Bunderan HI)</td>\n",
              "      <td>29</td>\n",
              "      <td>22</td>\n",
              "      <td>13</td>\n",
              "      <td>36</td>\n",
              "      <td>8</td>\n",
              "      <td>36</td>\n",
              "      <td>O3</td>\n",
              "      <td>BAIK</td>\n",
              "    </tr>\n",
              "    <tr>\n",
              "      <th>15</th>\n",
              "      <td>2020-01-16</td>\n",
              "      <td>DKI1 (Bunderan HI)</td>\n",
              "      <td>52</td>\n",
              "      <td>60</td>\n",
              "      <td>19</td>\n",
              "      <td>30</td>\n",
              "      <td>8</td>\n",
              "      <td>60</td>\n",
              "      <td>SO2</td>\n",
              "      <td>SEDANG</td>\n",
              "    </tr>\n",
              "    <tr>\n",
              "      <th>16</th>\n",
              "      <td>2020-01-17</td>\n",
              "      <td>DKI1 (Bunderan HI)</td>\n",
              "      <td>51</td>\n",
              "      <td>34</td>\n",
              "      <td>21</td>\n",
              "      <td>74</td>\n",
              "      <td>20</td>\n",
              "      <td>74</td>\n",
              "      <td>O3</td>\n",
              "      <td>SEDANG</td>\n",
              "    </tr>\n",
              "    <tr>\n",
              "      <th>17</th>\n",
              "      <td>2020-01-18</td>\n",
              "      <td>DKI1 (Bunderan HI)</td>\n",
              "      <td>37</td>\n",
              "      <td>29</td>\n",
              "      <td>14</td>\n",
              "      <td>31</td>\n",
              "      <td>6</td>\n",
              "      <td>37</td>\n",
              "      <td>PM10</td>\n",
              "      <td>BAIK</td>\n",
              "    </tr>\n",
              "    <tr>\n",
              "      <th>18</th>\n",
              "      <td>2020-01-19</td>\n",
              "      <td>DKI1 (Bunderan HI)</td>\n",
              "      <td>61</td>\n",
              "      <td>34</td>\n",
              "      <td>36</td>\n",
              "      <td>58</td>\n",
              "      <td>15</td>\n",
              "      <td>61</td>\n",
              "      <td>PM10</td>\n",
              "      <td>SEDANG</td>\n",
              "    </tr>\n",
              "    <tr>\n",
              "      <th>19</th>\n",
              "      <td>2020-01-20</td>\n",
              "      <td>DKI1 (Bunderan HI)</td>\n",
              "      <td>47</td>\n",
              "      <td>30</td>\n",
              "      <td>15</td>\n",
              "      <td>33</td>\n",
              "      <td>9</td>\n",
              "      <td>47</td>\n",
              "      <td>PM10</td>\n",
              "      <td>BAIK</td>\n",
              "    </tr>\n",
              "    <tr>\n",
              "      <th>20</th>\n",
              "      <td>2020-01-21</td>\n",
              "      <td>DKI1 (Bunderan HI)</td>\n",
              "      <td>30</td>\n",
              "      <td>36</td>\n",
              "      <td>14</td>\n",
              "      <td>26</td>\n",
              "      <td>9</td>\n",
              "      <td>36</td>\n",
              "      <td>SO2</td>\n",
              "      <td>BAIK</td>\n",
              "    </tr>\n",
              "    <tr>\n",
              "      <th>21</th>\n",
              "      <td>2020-01-22</td>\n",
              "      <td>DKI1 (Bunderan HI)</td>\n",
              "      <td>40</td>\n",
              "      <td>36</td>\n",
              "      <td>18</td>\n",
              "      <td>28</td>\n",
              "      <td>15</td>\n",
              "      <td>40</td>\n",
              "      <td>PM10</td>\n",
              "      <td>BAIK</td>\n",
              "    </tr>\n",
              "    <tr>\n",
              "      <th>22</th>\n",
              "      <td>2020-01-23</td>\n",
              "      <td>DKI1 (Bunderan HI)</td>\n",
              "      <td>41</td>\n",
              "      <td>---</td>\n",
              "      <td>27</td>\n",
              "      <td>19</td>\n",
              "      <td>18</td>\n",
              "      <td>41</td>\n",
              "      <td>PM10</td>\n",
              "      <td>BAIK</td>\n",
              "    </tr>\n",
              "    <tr>\n",
              "      <th>23</th>\n",
              "      <td>2020-01-24</td>\n",
              "      <td>DKI1 (Bunderan HI)</td>\n",
              "      <td>44</td>\n",
              "      <td>---</td>\n",
              "      <td>24</td>\n",
              "      <td>16</td>\n",
              "      <td>13</td>\n",
              "      <td>44</td>\n",
              "      <td>PM10</td>\n",
              "      <td>BAIK</td>\n",
              "    </tr>\n",
              "    <tr>\n",
              "      <th>24</th>\n",
              "      <td>2020-01-25</td>\n",
              "      <td>DKI1 (Bunderan HI)</td>\n",
              "      <td>27</td>\n",
              "      <td>---</td>\n",
              "      <td>31</td>\n",
              "      <td>27</td>\n",
              "      <td>12</td>\n",
              "      <td>31</td>\n",
              "      <td>CO</td>\n",
              "      <td>BAIK</td>\n",
              "    </tr>\n",
              "    <tr>\n",
              "      <th>25</th>\n",
              "      <td>2020-01-26</td>\n",
              "      <td>DKI1 (Bunderan HI)</td>\n",
              "      <td>44</td>\n",
              "      <td>---</td>\n",
              "      <td>51</td>\n",
              "      <td>49</td>\n",
              "      <td>11</td>\n",
              "      <td>51</td>\n",
              "      <td>CO</td>\n",
              "      <td>SEDANG</td>\n",
              "    </tr>\n",
              "    <tr>\n",
              "      <th>26</th>\n",
              "      <td>2020-01-27</td>\n",
              "      <td>DKI1 (Bunderan HI)</td>\n",
              "      <td>25</td>\n",
              "      <td>---</td>\n",
              "      <td>21</td>\n",
              "      <td>39</td>\n",
              "      <td>13</td>\n",
              "      <td>39</td>\n",
              "      <td>O3</td>\n",
              "      <td>BAIK</td>\n",
              "    </tr>\n",
              "    <tr>\n",
              "      <th>27</th>\n",
              "      <td>2020-01-28</td>\n",
              "      <td>DKI1 (Bunderan HI)</td>\n",
              "      <td>63</td>\n",
              "      <td>---</td>\n",
              "      <td>27</td>\n",
              "      <td>40</td>\n",
              "      <td>17</td>\n",
              "      <td>63</td>\n",
              "      <td>PM10</td>\n",
              "      <td>SEDANG</td>\n",
              "    </tr>\n",
              "    <tr>\n",
              "      <th>28</th>\n",
              "      <td>2020-01-29</td>\n",
              "      <td>DKI1 (Bunderan HI)</td>\n",
              "      <td>49</td>\n",
              "      <td>11</td>\n",
              "      <td>23</td>\n",
              "      <td>38</td>\n",
              "      <td>19</td>\n",
              "      <td>49</td>\n",
              "      <td>PM10</td>\n",
              "      <td>BAIK</td>\n",
              "    </tr>\n",
              "  </tbody>\n",
              "</table>\n",
              "</div>\n",
              "      <button class=\"colab-df-convert\" onclick=\"convertToInteractive('df-b650086d-c3a9-43d4-933d-b1c864c3d9c0')\"\n",
              "              title=\"Convert this dataframe to an interactive table.\"\n",
              "              style=\"display:none;\">\n",
              "        \n",
              "  <svg xmlns=\"http://www.w3.org/2000/svg\" height=\"24px\"viewBox=\"0 0 24 24\"\n",
              "       width=\"24px\">\n",
              "    <path d=\"M0 0h24v24H0V0z\" fill=\"none\"/>\n",
              "    <path d=\"M18.56 5.44l.94 2.06.94-2.06 2.06-.94-2.06-.94-.94-2.06-.94 2.06-2.06.94zm-11 1L8.5 8.5l.94-2.06 2.06-.94-2.06-.94L8.5 2.5l-.94 2.06-2.06.94zm10 10l.94 2.06.94-2.06 2.06-.94-2.06-.94-.94-2.06-.94 2.06-2.06.94z\"/><path d=\"M17.41 7.96l-1.37-1.37c-.4-.4-.92-.59-1.43-.59-.52 0-1.04.2-1.43.59L10.3 9.45l-7.72 7.72c-.78.78-.78 2.05 0 2.83L4 21.41c.39.39.9.59 1.41.59.51 0 1.02-.2 1.41-.59l7.78-7.78 2.81-2.81c.8-.78.8-2.07 0-2.86zM5.41 20L4 18.59l7.72-7.72 1.47 1.35L5.41 20z\"/>\n",
              "  </svg>\n",
              "      </button>\n",
              "      \n",
              "  <style>\n",
              "    .colab-df-container {\n",
              "      display:flex;\n",
              "      flex-wrap:wrap;\n",
              "      gap: 12px;\n",
              "    }\n",
              "\n",
              "    .colab-df-convert {\n",
              "      background-color: #E8F0FE;\n",
              "      border: none;\n",
              "      border-radius: 50%;\n",
              "      cursor: pointer;\n",
              "      display: none;\n",
              "      fill: #1967D2;\n",
              "      height: 32px;\n",
              "      padding: 0 0 0 0;\n",
              "      width: 32px;\n",
              "    }\n",
              "\n",
              "    .colab-df-convert:hover {\n",
              "      background-color: #E2EBFA;\n",
              "      box-shadow: 0px 1px 2px rgba(60, 64, 67, 0.3), 0px 1px 3px 1px rgba(60, 64, 67, 0.15);\n",
              "      fill: #174EA6;\n",
              "    }\n",
              "\n",
              "    [theme=dark] .colab-df-convert {\n",
              "      background-color: #3B4455;\n",
              "      fill: #D2E3FC;\n",
              "    }\n",
              "\n",
              "    [theme=dark] .colab-df-convert:hover {\n",
              "      background-color: #434B5C;\n",
              "      box-shadow: 0px 1px 3px 1px rgba(0, 0, 0, 0.15);\n",
              "      filter: drop-shadow(0px 1px 2px rgba(0, 0, 0, 0.3));\n",
              "      fill: #FFFFFF;\n",
              "    }\n",
              "  </style>\n",
              "\n",
              "      <script>\n",
              "        const buttonEl =\n",
              "          document.querySelector('#df-b650086d-c3a9-43d4-933d-b1c864c3d9c0 button.colab-df-convert');\n",
              "        buttonEl.style.display =\n",
              "          google.colab.kernel.accessAllowed ? 'block' : 'none';\n",
              "\n",
              "        async function convertToInteractive(key) {\n",
              "          const element = document.querySelector('#df-b650086d-c3a9-43d4-933d-b1c864c3d9c0');\n",
              "          const dataTable =\n",
              "            await google.colab.kernel.invokeFunction('convertToInteractive',\n",
              "                                                     [key], {});\n",
              "          if (!dataTable) return;\n",
              "\n",
              "          const docLinkHtml = 'Like what you see? Visit the ' +\n",
              "            '<a target=\"_blank\" href=https://colab.research.google.com/notebooks/data_table.ipynb>data table notebook</a>'\n",
              "            + ' to learn more about interactive tables.';\n",
              "          element.innerHTML = '';\n",
              "          dataTable['output_type'] = 'display_data';\n",
              "          await google.colab.output.renderOutput(dataTable, element);\n",
              "          const docLink = document.createElement('div');\n",
              "          docLink.innerHTML = docLinkHtml;\n",
              "          element.appendChild(docLink);\n",
              "        }\n",
              "      </script>\n",
              "    </div>\n",
              "  </div>\n",
              "  "
            ]
          },
          "metadata": {},
          "execution_count": 3
        }
      ]
    },
    {
      "cell_type": "code",
      "source": [
        "df.info"
      ],
      "metadata": {
        "colab": {
          "base_uri": "https://localhost:8080/"
        },
        "id": "pGhq8Qj08d73",
        "outputId": "b668c1fb-2f45-42d5-fca8-1cdebc618eaf"
      },
      "execution_count": 4,
      "outputs": [
        {
          "output_type": "execute_result",
          "data": {
            "text/plain": [
              "<bound method DataFrame.info of        tanggal             stasiun  pm10  so2  co  o3  no2  max critical  \\\n",
              "0   2020-01-01  DKI1 (Bunderan HI)    30   20  10  32    9   32       O3   \n",
              "1   2020-01-02  DKI1 (Bunderan HI)    27   22  12  29    8   29       O3   \n",
              "2   2020-01-03  DKI1 (Bunderan HI)    39   22  14  32   10   39     PM10   \n",
              "3   2020-01-04  DKI1 (Bunderan HI)    34   22  14  38   10   38       O3   \n",
              "4   2020-01-05  DKI1 (Bunderan HI)    35   22  12  31    9   35     PM10   \n",
              "5   2020-01-06  DKI1 (Bunderan HI)    46   23  16  32    9   46     PM10   \n",
              "6   2020-01-07  DKI1 (Bunderan HI)    37   23  26  33   11   37     PM10   \n",
              "7   2020-01-08  DKI1 (Bunderan HI)    41   26  20  30   11   41     PM10   \n",
              "8   2020-01-09  DKI1 (Bunderan HI)    52   23  29  24   12   52     PM10   \n",
              "9   2020-01-10  DKI1 (Bunderan HI)    24   24  18  25    8   25       O3   \n",
              "10  2020-01-11  DKI1 (Bunderan HI)    34   31  25  23    8   34     PM10   \n",
              "11  2020-01-12  DKI1 (Bunderan HI)    27   23   9  33    4   33       O3   \n",
              "12  2020-01-13  DKI1 (Bunderan HI)    33   26  12  36    8   36       O3   \n",
              "13  2020-01-14  DKI1 (Bunderan HI)    34   28  13  27    7   34     PM10   \n",
              "14  2020-01-15  DKI1 (Bunderan HI)    29   22  13  36    8   36       O3   \n",
              "15  2020-01-16  DKI1 (Bunderan HI)    52   60  19  30    8   60      SO2   \n",
              "16  2020-01-17  DKI1 (Bunderan HI)    51   34  21  74   20   74       O3   \n",
              "17  2020-01-18  DKI1 (Bunderan HI)    37   29  14  31    6   37     PM10   \n",
              "18  2020-01-19  DKI1 (Bunderan HI)    61   34  36  58   15   61     PM10   \n",
              "19  2020-01-20  DKI1 (Bunderan HI)    47   30  15  33    9   47     PM10   \n",
              "20  2020-01-21  DKI1 (Bunderan HI)    30   36  14  26    9   36      SO2   \n",
              "21  2020-01-22  DKI1 (Bunderan HI)    40   36  18  28   15   40     PM10   \n",
              "22  2020-01-23  DKI1 (Bunderan HI)    41  ---  27  19   18   41     PM10   \n",
              "23  2020-01-24  DKI1 (Bunderan HI)    44  ---  24  16   13   44     PM10   \n",
              "24  2020-01-25  DKI1 (Bunderan HI)    27  ---  31  27   12   31       CO   \n",
              "25  2020-01-26  DKI1 (Bunderan HI)    44  ---  51  49   11   51       CO   \n",
              "26  2020-01-27  DKI1 (Bunderan HI)    25  ---  21  39   13   39       O3   \n",
              "27  2020-01-28  DKI1 (Bunderan HI)    63  ---  27  40   17   63     PM10   \n",
              "28  2020-01-29  DKI1 (Bunderan HI)    49   11  23  38   19   49     PM10   \n",
              "\n",
              "   categori  \n",
              "0      BAIK  \n",
              "1      BAIK  \n",
              "2      BAIK  \n",
              "3      BAIK  \n",
              "4      BAIK  \n",
              "5      BAIK  \n",
              "6      BAIK  \n",
              "7      BAIK  \n",
              "8    SEDANG  \n",
              "9      BAIK  \n",
              "10     BAIK  \n",
              "11     BAIK  \n",
              "12     BAIK  \n",
              "13     BAIK  \n",
              "14     BAIK  \n",
              "15   SEDANG  \n",
              "16   SEDANG  \n",
              "17     BAIK  \n",
              "18   SEDANG  \n",
              "19     BAIK  \n",
              "20     BAIK  \n",
              "21     BAIK  \n",
              "22     BAIK  \n",
              "23     BAIK  \n",
              "24     BAIK  \n",
              "25   SEDANG  \n",
              "26     BAIK  \n",
              "27   SEDANG  \n",
              "28     BAIK  >"
            ]
          },
          "metadata": {},
          "execution_count": 4
        }
      ]
    },
    {
      "cell_type": "code",
      "source": [
        "import matplotlib.pyplot as plt\n",
        "\n",
        "df.plot(kind='scatter', x='pm10', y='max')\n",
        "plt.title('indeks kesejahtraan warga')\n",
        "plt.xlabel('jumlah penduduk')\n",
        "plt.ylabel('indeks')\n",
        "plt.xlim(20, 100)\n",
        "plt.ylim(20, 100)\n",
        "plt.grid(True)\n",
        "plt.show()"
      ],
      "metadata": {
        "colab": {
          "base_uri": "https://localhost:8080/",
          "height": 295
        },
        "id": "izJFRBAc8fjX",
        "outputId": "3bd69518-9560-484d-ecca-8b6ef917927d"
      },
      "execution_count": 11,
      "outputs": [
        {
          "output_type": "display_data",
          "data": {
            "text/plain": [
              "<Figure size 432x288 with 1 Axes>"
            ],
            "image/png": "[encoded data removed]"
          },
          "metadata": {
            "needs_background": "light"
          }
        }
      ]
    },
    {
      "cell_type": "code",
      "source": [
        "import numpy as np\n",
        "X = np.array(df['pm10'])\n",
        "y = np.array(df['max'])\n",
        "print(f'X : {X}')\n",
        "print(f'y : {y}')"
      ],
      "metadata": {
        "colab": {
          "base_uri": "https://localhost:8080/"
        },
        "id": "KU-oFwMWpxhs",
        "outputId": "2a252466-3459-4ab9-fffb-677730ca9bbf"
      },
      "execution_count": 13,
      "outputs": [
        {
          "output_type": "stream",
          "name": "stdout",
          "text": [
            "X : [30 27 39 34 35 46 37 41 52 24 34 27 33 34 29 52 51 37 61 47 30 40 41 44\n",
            " 27 44 25 63 49]\n",
            "y : [32 29 39 38 35 46 37 41 52 25 34 33 36 34 36 60 74 37 61 47 36 40 41 44\n",
            " 31 51 39 63 49]\n"
          ]
        }
      ]
    },
    {
      "cell_type": "code",
      "source": [
        "X = X.reshape(-1, 1)\n",
        "X.shape"
      ],
      "metadata": {
        "colab": {
          "base_uri": "https://localhost:8080/"
        },
        "id": "nVg_OLzJ6MOW",
        "outputId": "08200333-e4f8-4eae-9087-1eceb731717e"
      },
      "execution_count": 15,
      "outputs": [
        {
          "output_type": "execute_result",
          "data": {
            "text/plain": [
              "(29, 1)"
            ]
          },
          "metadata": {},
          "execution_count": 15
        }
      ]
    },
    {
      "cell_type": "code",
      "source": [
        "X"
      ],
      "metadata": {
        "colab": {
          "base_uri": "https://localhost:8080/"
        },
        "id": "D5yJoEin6Ql9",
        "outputId": "1e5e55fa-d5ce-42ed-94f1-2964598429c1"
      },
      "execution_count": 17,
      "outputs": [
        {
          "output_type": "execute_result",
          "data": {
            "text/plain": [
              "array([[30],\n",
              "       [27],\n",
              "       [39],\n",
              "       [34],\n",
              "       [35],\n",
              "       [46],\n",
              "       [37],\n",
              "       [41],\n",
              "       [52],\n",
              "       [24],\n",
              "       [34],\n",
              "       [27],\n",
              "       [33],\n",
              "       [34],\n",
              "       [29],\n",
              "       [52],\n",
              "       [51],\n",
              "       [37],\n",
              "       [61],\n",
              "       [47],\n",
              "       [30],\n",
              "       [40],\n",
              "       [41],\n",
              "       [44],\n",
              "       [27],\n",
              "       [44],\n",
              "       [25],\n",
              "       [63],\n",
              "       [49]])"
            ]
          },
          "metadata": {},
          "execution_count": 17
        }
      ]
    },
    {
      "cell_type": "code",
      "source": [
        "from sklearn.linear_model import LinearRegression\n",
        "model = LinearRegression()\n",
        "model.fit(X, y)"
      ],
      "metadata": {
        "colab": {
          "base_uri": "https://localhost:8080/"
        },
        "id": "3qxMqgFX6TRR",
        "outputId": "7915c0ca-21eb-4350-e407-a49cc9d194fa"
      },
      "execution_count": 19,
      "outputs": [
        {
          "output_type": "execute_result",
          "data": {
            "text/plain": [
              "LinearRegression()"
            ]
          },
          "metadata": {},
          "execution_count": 19
        }
      ]
    },
    {
      "cell_type": "code",
      "source": [
        "X_vis = np.array([0, 10000]).reshape(-1, 1)\n",
        "y_vis = model.predict(X_vis)"
      ],
      "metadata": {
        "id": "9D4prRnu6WkM"
      },
      "execution_count": 21,
      "outputs": []
    },
    {
      "cell_type": "code",
      "source": [
        "plt.scatter(X, y)\n",
        "plt.plot(X_vis, y_vis, 'r')\n",
        "plt.title('indeks kesejahtraan warga')\n",
        "plt.xlabel('jumlah penduduk')\n",
        "plt.ylabel('indeks')\n",
        "plt.xlim(20, 100)\n",
        "plt.ylim(20, 100)\n",
        "plt.grid(True)\n",
        "plt.show()"
      ],
      "metadata": {
        "colab": {
          "base_uri": "https://localhost:8080/",
          "height": 295
        },
        "id": "RPL8uBBX6fn9",
        "outputId": "ebc3b813-1386-4208-d776-d8c8700fcd34"
      },
      "execution_count": 23,
      "outputs": [
        {
          "output_type": "display_data",
          "data": {
            "text/plain": [
              "<Figure size 432x288 with 1 Axes>"
            ],
            "image/png": "[encoded data removed]"
          },
          "metadata": {
            "needs_background": "light"
          }
        }
      ]
    },
    {
      "cell_type": "code",
      "source": [
        "fig = plt.figure()\n",
        "ax = fig.add_axes([0,0,1,1])\n",
        "ekskul = df[ 'pm10']\n",
        "mengikuti = df['max']\n",
        "c = 'black', 'pink', 'blue'\n",
        "plt.title(\"Lingkungan\")\n",
        "plt.bar(ekskul, mengikuti, color = c)\n",
        "plt.show()"
      ],
      "metadata": {
        "colab": {
          "base_uri": "https://localhost:8080/",
          "height": 352
        },
        "id": "ErtfkmZ08Qa2",
        "outputId": "73c354c4-3cab-443b-cd06-c0e59d00ecce"
      },
      "execution_count": 34,
      "outputs": [
        {
          "output_type": "display_data",
          "data": {
            "text/plain": [
              "<Figure size 432x288 with 1 Axes>"
            ],
            "image/png": "[encoded data removed]"
          },
          "metadata": {
            "needs_background": "light"
          }
        }
      ]
    },
    {
      "cell_type": "code",
      "source": [
        "print(\"\")\n",
        "fig = plt.figure()\n",
        "ax = fig.add_axes([0,0,1,1])\n",
        "ax.axis('equal')\n",
        "plt.title(\"usia\")\n",
        "ekskul = df[ 'pm10']\n",
        "mengikuti = df['max']\n",
        "plt.title(\"Lingkunagn\")\n",
        "ax.pie(mengikuti,labels=ekskul,autopct='%1.2f%%')\n",
        "plt.show()"
      ],
      "metadata": {
        "colab": {
          "base_uri": "https://localhost:8080/",
          "height": 352
        },
        "id": "DEKmZWR38c4X",
        "outputId": "ac8554f2-a4f6-458a-85b1-6e3de3fa377b"
      },
      "execution_count": 35,
      "outputs": [
        {
          "output_type": "stream",
          "name": "stdout",
          "text": [
            "\n"
          ]
        },
        {
          "output_type": "display_data",
          "data": {
            "text/plain": [
              "<Figure size 432x288 with 1 Axes>"
            ],
            "image/png": "[encoded data removed]"
          },
          "metadata": {}
        }
      ]
    },
    {
      "cell_type": "code",
      "source": [],
      "metadata": {
        "id": "P0VwRyIIQnk_"
      },
      "execution_count": null,
      "outputs": []
    },
    {
      "cell_type": "code",
      "source": [
        "pm10 = np.array([2330, 5200, 8800, 3200, 1200]).reshape(-1, 1)\n",
        "pm10"
      ],
      "metadata": {
        "colab": {
          "base_uri": "https://localhost:8080/"
        },
        "id": "RggU0mxb8y5S",
        "outputId": "b014b92f-6b1c-48e2-82ed-e7c805bd90ac"
      },
      "execution_count": 30,
      "outputs": [
        {
          "output_type": "execute_result",
          "data": {
            "text/plain": [
              "array([[2330],\n",
              "       [5200],\n",
              "       [8800],\n",
              "       [3200],\n",
              "       [1200]])"
            ]
          },
          "metadata": {},
          "execution_count": 30
        }
      ]
    },
    {
      "cell_type": "code",
      "source": [
        "prediksi_indeks = model.predict(pm10)\n",
        "prediksi_indeks"
      ],
      "metadata": {
        "colab": {
          "base_uri": "https://localhost:8080/"
        },
        "id": "UgV_SMHV9BbL",
        "outputId": "53514488-0c4e-4201-a8be-d1692924a86a"
      },
      "execution_count": 32,
      "outputs": [
        {
          "output_type": "execute_result",
          "data": {
            "text/plain": [
              "array([2238.78645388, 4990.75894746, 8442.71050736, 3073.00808085,\n",
              "       1155.25721424])"
            ]
          },
          "metadata": {},
          "execution_count": 32
        }
      ]
    },
    {
      "cell_type": "code",
      "source": [
        "for max, index in zip(pm10, prediksi_indeks):\n",
        "  print(f'Jumlah Penduduk : {max} prediksi indeks : {index}')"
      ],
      "metadata": {
        "colab": {
          "base_uri": "https://localhost:8080/"
        },
        "id": "Y4xJKSTs9Ij2",
        "outputId": "341bf5c8-d5c3-4831-bc64-882232f4b2ee"
      },
      "execution_count": 33,
      "outputs": [
        {
          "output_type": "stream",
          "name": "stdout",
          "text": [
            "Jumlah Penduduk : [2330] prediksi indeks : 2238.78645387836\n",
            "Jumlah Penduduk : [5200] prediksi indeks : 4990.758947463199\n",
            "Jumlah Penduduk : [8800] prediksi indeks : 8442.710507360556\n",
            "Jumlah Penduduk : [3200] prediksi indeks : 3073.008080853555\n",
            "Jumlah Penduduk : [1200] prediksi indeks : 1155.2572142439114\n"
          ]
        }
      ]
    }
  ]
}